{
 "cells": [
  {
   "cell_type": "markdown",
   "metadata": {},
   "source": [
    "### Question 1 (d)"
   ]
  },
  {
   "cell_type": "code",
   "execution_count": 10,
   "metadata": {},
   "outputs": [],
   "source": [
    "import numpy as np\n",
    "from utils import generate_data\n",
    "\n",
    "np.random.seed(0)\n",
    "\n",
    "# Generate data X2\n",
    "N = 1000\n",
    "mean = np.array([1, 5, -3])\n",
    "cov = np.array([[1, 0, 0], [0, 4, 1], [0, 1, 6]])\n",
    "X2 = generate_data(mean, cov, N)\n"
   ]
  },
  {
   "cell_type": "code",
   "execution_count": 11,
   "metadata": {},
   "outputs": [
    {
     "name": "stdout",
     "output_type": "stream",
     "text": [
      "Part (d) - Individual MLE Estimates for C2\n",
      "Means:\n",
      " [ 0.9568005   4.93428697 -2.98573253]\n",
      "Covariance:\n",
      " [[0.93999013 0.         0.        ]\n",
      " [0.         3.80639465 0.        ]\n",
      " [0.         0.         5.48737635]]\n"
     ]
    }
   ],
   "source": [
    "mu_hat_ml_individual = np.mean(X2, axis=0)\n",
    "sigma2_hat_ml_individual = np.var(X2, axis=0, ddof=0)\n",
    "cov_ml_individual = np.diag(sigma2_hat_ml_individual)\n",
    "print(\"Part (d) - Individual MLE Estimates for C2\")\n",
    "print(\"Means:\\n\", mu_hat_ml_individual)\n",
    "print(\"Covariance:\\n\", cov_ml_individual)\n"
   ]
  },
  {
   "cell_type": "code",
   "execution_count": null,
   "metadata": {},
   "outputs": [],
   "source": []
  }
 ],
 "metadata": {
  "kernelspec": {
   "display_name": "pattern_recogn",
   "language": "python",
   "name": "python3"
  },
  "language_info": {
   "codemirror_mode": {
    "name": "ipython",
    "version": 3
   },
   "file_extension": ".py",
   "mimetype": "text/x-python",
   "name": "python",
   "nbconvert_exporter": "python",
   "pygments_lexer": "ipython3",
   "version": "3.8.20"
  }
 },
 "nbformat": 4,
 "nbformat_minor": 2
}
