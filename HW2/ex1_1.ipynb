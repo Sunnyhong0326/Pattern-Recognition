{
 "cells": [
  {
   "cell_type": "markdown",
   "metadata": {},
   "source": [
    "### Question 1 (a)\n"
   ]
  },
  {
   "cell_type": "code",
   "execution_count": null,
   "metadata": {},
   "outputs": [],
   "source": [
    "import numpy as np\n",
    "from utils import generate_data\n",
    "\n",
    "np.random.seed(0)\n",
    "\n",
    "# Generate data X1\n",
    "N = 1000\n",
    "mean = np.array([0, 0, 0])\n",
    "cov = np.diag([3, 5, 2])\n",
    "X1 = generate_data(mean, cov, N)\n"
   ]
  },
  {
   "cell_type": "code",
   "execution_count": 6,
   "metadata": {},
   "outputs": [
    {
     "name": "stdout",
     "output_type": "stream",
     "text": [
      "Part (a) - Individual MLE Estimates for C1\n",
      "Means: [-0.06052505 -0.01056471 -0.06109331]\n",
      "Variances: [2.95760961 4.4889776  1.87998026]\n"
     ]
    }
   ],
   "source": [
    "mu_hat_ml_individual = np.mean(X1, axis=0)\n",
    "sigma2_hat_ml_individual = np.var(X1, axis=0, ddof=0)\n",
    "\n",
    "print(\"Part (a) - Individual MLE Estimates for C1\")\n",
    "print(\"Means:\", mu_hat_ml_individual)\n",
    "print(\"Variances:\", sigma2_hat_ml_individual)\n"
   ]
  },
  {
   "cell_type": "code",
   "execution_count": null,
   "metadata": {},
   "outputs": [],
   "source": []
  }
 ],
 "metadata": {
  "kernelspec": {
   "display_name": "pattern_recogn",
   "language": "python",
   "name": "python3"
  },
  "language_info": {
   "codemirror_mode": {
    "name": "ipython",
    "version": 3
   },
   "file_extension": ".py",
   "mimetype": "text/x-python",
   "name": "python",
   "nbconvert_exporter": "python",
   "pygments_lexer": "ipython3",
   "version": "3.8.20"
  }
 },
 "nbformat": 4,
 "nbformat_minor": 2
}
