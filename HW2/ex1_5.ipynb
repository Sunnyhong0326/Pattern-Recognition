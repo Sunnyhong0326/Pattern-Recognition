{
 "cells": [
  {
   "cell_type": "markdown",
   "metadata": {},
   "source": [
    "### Question 1 (e)"
   ]
  },
  {
   "cell_type": "code",
   "execution_count": 4,
   "metadata": {},
   "outputs": [],
   "source": [
    "import numpy as np\n",
    "from utils import generate_data\n",
    "\n",
    "np.random.seed(0)\n",
    "\n",
    "# Generate data X2\n",
    "N = 1000\n",
    "mean = np.array([1, 5, -3])\n",
    "cov = np.array([[1, 0, 0], [0, 4, 1], [0, 1, 6]])\n",
    "X2 = generate_data(mean, cov, N)\n"
   ]
  },
  {
   "cell_type": "code",
   "execution_count": 5,
   "metadata": {},
   "outputs": [
    {
     "name": "stdout",
     "output_type": "stream",
     "text": [
      "\n",
      "Part (e) - Full MLE Estimates for C1\n",
      "Mean Vector:\n",
      " [ 0.9568005   4.93428697 -2.98573253]\n",
      "Covariance Matrix:\n",
      " [[ 0.93999013 -0.03597977 -0.02570444]\n",
      " [-0.03597977  3.80639465  0.73178468]\n",
      " [-0.02570444  0.73178468  5.48737635]]\n"
     ]
    }
   ],
   "source": [
    "mu_hat_ml_full = np.mean(X2, axis=0)\n",
    "Sigma_hat_ml_full = np.cov(X2, rowvar=False, bias=True)  # bias=True => MLE (divide by N)\n",
    "\n",
    "print(\"\\nPart (e) - Full MLE Estimates for C1\")\n",
    "print(\"Mean Vector:\\n\", mu_hat_ml_full)\n",
    "print(\"Covariance Matrix:\\n\", Sigma_hat_ml_full)\n"
   ]
  },
  {
   "cell_type": "code",
   "execution_count": null,
   "metadata": {},
   "outputs": [],
   "source": []
  }
 ],
 "metadata": {
  "kernelspec": {
   "display_name": "pattern_recogn",
   "language": "python",
   "name": "python3"
  },
  "language_info": {
   "codemirror_mode": {
    "name": "ipython",
    "version": 3
   },
   "file_extension": ".py",
   "mimetype": "text/x-python",
   "name": "python",
   "nbconvert_exporter": "python",
   "pygments_lexer": "ipython3",
   "version": "3.8.20"
  }
 },
 "nbformat": 4,
 "nbformat_minor": 2
}
