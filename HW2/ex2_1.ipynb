{
 "cells": [
  {
   "cell_type": "code",
   "execution_count": 3,
   "metadata": {},
   "outputs": [
    {
     "name": "stdout",
     "output_type": "stream",
     "text": [
      "True p = 0.7\n",
      "(a) N=1000 → Estimated p_ML = 0.7120\n"
     ]
    }
   ],
   "source": [
    "import numpy as np\n",
    "from utils import generate_bernoulli_and_estimate\n",
    "\n",
    "np.random.seed(42)\n",
    "\n",
    "# (a) N = 1000\n",
    "X_1000, p_hat_1000 = generate_bernoulli_and_estimate(p=0.7, N=1000)\n",
    "\n",
    "# Print results\n",
    "print(\"True p = 0.7\")\n",
    "print(f\"(a) N=1000 → Estimated p_ML = {p_hat_1000:.4f}\")\n"
   ]
  },
  {
   "cell_type": "code",
   "execution_count": null,
   "metadata": {},
   "outputs": [],
   "source": []
  }
 ],
 "metadata": {
  "kernelspec": {
   "display_name": "pattern_recogn",
   "language": "python",
   "name": "python3"
  },
  "language_info": {
   "codemirror_mode": {
    "name": "ipython",
    "version": 3
   },
   "file_extension": ".py",
   "mimetype": "text/x-python",
   "name": "python",
   "nbconvert_exporter": "python",
   "pygments_lexer": "ipython3",
   "version": "3.8.20"
  }
 },
 "nbformat": 4,
 "nbformat_minor": 2
}
