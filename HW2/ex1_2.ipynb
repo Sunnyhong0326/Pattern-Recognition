{
 "cells": [
  {
   "cell_type": "markdown",
   "metadata": {},
   "source": [
    "### Question 1 (b)"
   ]
  },
  {
   "cell_type": "code",
   "execution_count": 12,
   "metadata": {},
   "outputs": [],
   "source": [
    "import numpy as np\n",
    "from utils import generate_data\n",
    "\n",
    "np.random.seed(0)\n",
    "\n",
    "# Generate data X1\n",
    "N = 1000\n",
    "mean = np.array([0, 0, 0])\n",
    "cov = np.diag([3, 5, 2])\n",
    "X1 = generate_data(mean, cov, N)\n"
   ]
  },
  {
   "cell_type": "code",
   "execution_count": null,
   "metadata": {},
   "outputs": [
    {
     "name": "stdout",
     "output_type": "stream",
     "text": [
      "\n",
      "Part (b) - Full MLE Estimates for C1\n",
      "Mean Vector:\n",
      " [-0.06052505 -0.01056471 -0.06109331]\n",
      "Covariance Matrix:\n",
      " [[ 2.95760961 -0.0620756  -0.03027466]\n",
      " [-0.0620756   4.4889776  -0.04684385]\n",
      " [-0.03027466 -0.04684385  1.87998026]]\n"
     ]
    }
   ],
   "source": [
    "mu_hat_ml_full = np.mean(X1, axis=0)\n",
    "Sigma_hat_ml_full = np.cov(X1, rowvar=False, bias=True) \n",
    "\n",
    "print(\"\\nPart (b) - Full MLE Estimates for C1\")\n",
    "print(\"Mean Vector:\\n\", mu_hat_ml_full)\n",
    "print(\"Covariance Matrix:\\n\", Sigma_hat_ml_full)\n"
   ]
  },
  {
   "cell_type": "code",
   "execution_count": null,
   "metadata": {},
   "outputs": [],
   "source": []
  }
 ],
 "metadata": {
  "kernelspec": {
   "display_name": "pattern_recogn",
   "language": "python",
   "name": "python3"
  },
  "language_info": {
   "codemirror_mode": {
    "name": "ipython",
    "version": 3
   },
   "file_extension": ".py",
   "mimetype": "text/x-python",
   "name": "python",
   "nbconvert_exporter": "python",
   "pygments_lexer": "ipython3",
   "version": "3.8.20"
  }
 },
 "nbformat": 4,
 "nbformat_minor": 2
}
